{
 "cells": [
  {
   "cell_type": "code",
   "execution_count": 294,
   "metadata": {},
   "outputs": [],
   "source": [
    "import importlib\n",
    "import getBalanceSheets as edgar\n",
    "importlib.reload(edgar)\n",
    "headers = {'User-agent': \"jakejoyner9@gmail.com\"}"
   ]
  },
  {
   "cell_type": "code",
   "execution_count": null,
   "metadata": {},
   "outputs": [],
   "source": [
    "##annual, label = edgar.fact_df('RACE')\n",
    "#annual\n",
    "\n",
    "#filtered = edgar.get_submission_data_by_ticker(\"RACE\", only_filings_df=True, headers=headers)\n",
    "#df = filtered[filtered['form'] == '20-F']\n",
    "#df = df.set_index('reportDate')\n",
    "#accession_df = df['accessionNumber']\n",
    "#with edgar.pd.option_context('display.max_rows', None):\n",
    "    #print(accession_df)\n",
    "\n",
    "#k = edgar.get_filtered_filings(\"RACE\", ten_k=False, twenty_f=True, just_accesion_numbers=True)\n",
    "#k\n",
    "# TODO: FIX LABELS DICT IN FACTS_DF() (right now everything is None) (for RACE)\n",
    "#annual = edgar.annual_facts('RACE')\n",
    "#annual\n",
    "\n",
    "df, labels_dict = edgar.fact_df('GME', headers=headers)\n",
    "labels_dict"
   ]
  },
  {
   "cell_type": "code",
   "execution_count": 296,
   "metadata": {},
   "outputs": [
    {
     "data": {
      "text/plain": [
       "dict_keys(['dei', 'us-gaap'])"
      ]
     },
     "execution_count": 296,
     "metadata": {},
     "output_type": "execute_result"
    }
   ],
   "source": [
    "data = edgar.get_facts('GME', headers=headers)\n",
    "data['facts'].keys()"
   ]
  },
  {
   "cell_type": "code",
   "execution_count": 307,
   "metadata": {},
   "outputs": [
    {
     "data": {
      "text/plain": [
       "dict_keys(['dei', 'invest', 'us-gaap', 'srt'])"
      ]
     },
     "execution_count": 307,
     "metadata": {},
     "output_type": "execute_result"
    }
   ],
   "source": [
    "# annual = edgar.annual_facts('NVDA', headers=headers)\n",
    "# annual\n",
    "\n",
    "# k = edgar.get_filtered_filings('NVDA', ten_k=True, twenty_f=False, just_accesion_numbers=True)\n",
    "# k\n",
    "\n",
    "k = edgar.get_facts('NVDA')\n",
    "k['facts'].keys()"
   ]
  }
 ],
 "metadata": {
  "kernelspec": {
   "display_name": ".venv",
   "language": "python",
   "name": "python3"
  },
  "language_info": {
   "codemirror_mode": {
    "name": "ipython",
    "version": 3
   },
   "file_extension": ".py",
   "mimetype": "text/x-python",
   "name": "python",
   "nbconvert_exporter": "python",
   "pygments_lexer": "ipython3",
   "version": "3.12.7"
  }
 },
 "nbformat": 4,
 "nbformat_minor": 2
}
